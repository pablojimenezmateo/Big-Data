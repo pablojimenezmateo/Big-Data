{
 "metadata": {
  "name": ""
 },
 "nbformat": 3,
 "nbformat_minor": 0,
 "worksheets": [
  {
   "cells": [
    {
     "cell_type": "heading",
     "level": 1,
     "metadata": {},
     "source": [
      "Querying big datasets, the good way."
     ]
    },
    {
     "cell_type": "markdown",
     "metadata": {},
     "source": [
      "In this tutorial we are going to work with real data. For that purpose we chose a Microsoft finances record of a day. This time we will be using btables instead of barrays too, keep in mind that the syntax will be completely different."
     ]
    },
    {
     "cell_type": "code",
     "collapsed": false,
     "input": [
      "import pandas as pd\n",
      "import numpy as np\n",
      "import pylab as plt\n",
      "import blz\n",
      "import sys\n",
      "from time import time"
     ],
     "language": "python",
     "metadata": {},
     "outputs": [],
     "prompt_number": 1
    },
    {
     "cell_type": "markdown",
     "metadata": {},
     "source": [
      "First we need to read the h5 so we can process its data."
     ]
    },
    {
     "cell_type": "code",
     "collapsed": false,
     "input": [
      "t1 = time()\n",
      "df = pd.read_hdf('h5/msft-18-SEP-2013-blosc9.h5', '/msft')\n",
      "t2 = time()\n",
      "\n",
      "print t2 - t1"
     ],
     "language": "python",
     "metadata": {},
     "outputs": [
      {
       "output_type": "stream",
       "stream": "stdout",
       "text": [
        "5.03669786453\n"
       ]
      }
     ],
     "prompt_number": 2
    },
    {
     "cell_type": "markdown",
     "metadata": {},
     "source": [
      "How much memory does it take?"
     ]
    },
    {
     "cell_type": "code",
     "collapsed": false,
     "input": [
      "print(\"DataFrame: %.1f MB\" % (df.values.nbytes / 2**20.))"
     ],
     "language": "python",
     "metadata": {},
     "outputs": [
      {
       "output_type": "stream",
       "stream": "stdout",
       "text": [
        "DataFrame: 147.5 MB\n"
       ]
      }
     ],
     "prompt_number": 3
    },
    {
     "cell_type": "markdown",
     "metadata": {},
     "source": [
      "Well, that is not accurate. To know the actual size we must calculate a little more. Due to panda not knowing the size of a length-variable field, it creates a python object for every entry. Let's sum the sizes of all the objects."
     ]
    },
    {
     "cell_type": "code",
     "collapsed": false,
     "input": [
      "dfo = df.blocks['object']\n",
      "overhead = sum(sys.getsizeof(o) for o in dfo.values.flat)\n",
      "print(\"Overhead of objects: %.1f MB\" % (overhead / 2**20.))"
     ],
     "language": "python",
     "metadata": {},
     "outputs": [
      {
       "output_type": "stream",
       "stream": "stdout",
       "text": [
        "Overhead of objects: 286.8 MB\n"
       ]
      }
     ],
     "prompt_number": 4
    },
    {
     "cell_type": "markdown",
     "metadata": {},
     "source": [
      "Then the memory used is the overhead plus the dataframe size. (This is not true, with the memory_profiler module we have seen that this takes 1285.6 MiB of RAM, I don't now why yet, may have to do with fragmentation)"
     ]
    },
    {
     "cell_type": "code",
     "collapsed": false,
     "input": [
      "print(\"DataFrame: %.1f MB\" % ((df.values.nbytes + overhead) / 2**20.))"
     ],
     "language": "python",
     "metadata": {},
     "outputs": [
      {
       "output_type": "stream",
       "stream": "stdout",
       "text": [
        "DataFrame: 434.3 MB\n"
       ]
      }
     ],
     "prompt_number": 5
    },
    {
     "cell_type": "markdown",
     "metadata": {},
     "source": [
      "Now let's import it to a blz container. As said before, this time we are going to use btables instead of barrays, that's basically because btables offer much more functionality in this case. We can have columns with different data types and we will be able to make really fast queries. To make this happen we need to do 2 steps."
     ]
    },
    {
     "cell_type": "markdown",
     "metadata": {},
     "source": [
      "First we need to know the different data types for each column."
     ]
    },
    {
     "cell_type": "code",
     "collapsed": false,
     "input": [
      "dt = np.dtype([(k, v if v.kind!='O' else 'S49') for k,v in df.dtypes.iteritems()])\n",
      "dt"
     ],
     "language": "python",
     "metadata": {},
     "outputs": [
      {
       "metadata": {},
       "output_type": "pyout",
       "prompt_number": 6,
       "text": [
        "dtype([('NRIC', 'S49'), ('Current_RIC', '<f8'), ('Date_G_', 'S49'), ('Time_G_', 'S49'), ('GMT_Offset', '<i8'), ('Type', 'S49'), ('Ex_Cntrb_ID', 'S49'), ('Price', '<f8'), ('Volume', '<f8'), ('Market_VWAP', '<f8'), ('Buyer_ID', 'S49'), ('Bid_Price', '<f8'), ('Bid_Size', '<f8'), ('Seller_ID', 'S49'), ('Ask_Price', '<f8'), ('Ask_Size', '<f8'), ('Qualifiers', 'S49'), ('Seq_No', '<f8'), ('Exch_Time', 'S49'), ('New_Price', '<f8'), ('New_Vol', '<f8'), ('New_Seq_No', '<f8'), ('Trd_Qte_Date', 'S49'), ('Quote_Time', 'S49'), ('Tick_Dir', 'S49'), ('Open', '<f8'), ('High', '<f8'), ('Low', '<f8'), ('Acc_Volume', '<f8')])"
       ]
      }
     ],
     "prompt_number": 6
    },
    {
     "cell_type": "markdown",
     "metadata": {},
     "source": [
      "Then we simply create the btable."
     ]
    },
    {
     "cell_type": "code",
     "collapsed": false,
     "input": [
      "t1 = time()\n",
      "bt = blz.fromiter((i[1:] for i in df.itertuples()), dtype=dt, count=len(df))\n",
      "t2 = time()\n",
      "\n",
      "print t2 - t1"
     ],
     "language": "python",
     "metadata": {},
     "outputs": [
      {
       "output_type": "stream",
       "stream": "stdout",
       "text": [
        "7.77590990067\n"
       ]
      }
     ],
     "prompt_number": 7
    },
    {
     "cell_type": "markdown",
     "metadata": {},
     "source": [
      "As you can see btable has also a good compression ratio."
     ]
    },
    {
     "cell_type": "code",
     "collapsed": false,
     "input": [
      "print(\"Uncompressed size: %.1f MB, Compressed size: %.1f MB, Compression ratio: %.1f\" % \\\n",
      "      (bt.nbytes / 2**20., bt.cbytes / 2**20., bt.nbytes / float(bt.cbytes)))"
     ],
     "language": "python",
     "metadata": {},
     "outputs": [
      {
       "output_type": "stream",
       "stream": "stdout",
       "text": [
        "Uncompressed size: 460.4 MB, Compressed size: 26.5 MB, Compression ratio: 17.4\n"
       ]
      }
     ],
     "prompt_number": 8
    },
    {
     "cell_type": "markdown",
     "metadata": {},
     "source": [
      "You can do powerful and fast operations with this container."
     ]
    },
    {
     "cell_type": "code",
     "collapsed": false,
     "input": [
      "t1 = time()\n",
      "prices_sum = bt.eval(\"np.nansum(Price)\", vm=\"python\")\n",
      "not_nan_prices = bt.eval(\"np.sum(Price > 0)\", vm=\"python\")\n",
      "t2 = time()\n",
      "\n",
      "mean = prices_sum/not_nan_prices\n",
      "\n",
      "print \"Mean: \" + str(mean) + \" Elapsed: \" + str(t2-t1)"
     ],
     "language": "python",
     "metadata": {},
     "outputs": [
      {
       "output_type": "stream",
       "stream": "stdout",
       "text": [
        "Mean: 33.0962949223 Elapsed: 0.14878487587\n"
       ]
      }
     ],
     "prompt_number": 9
    },
    {
     "cell_type": "markdown",
     "metadata": {},
     "source": [
      "To see the data we are working with we will plot for each trade the price, the highest value and the lowest one. Fetching this data is really fast."
     ]
    },
    {
     "cell_type": "code",
     "collapsed": false,
     "input": [
      "points = []\n",
      "\n",
      "t1 = time()\n",
      "for r in bt.where('(Type == \\'Trade\\')'):\n",
      "    points.append([r[7], r[26], r[27]])\n",
      "t2 = time()\n",
      "\n",
      "print 'Elapsed: ' + str(t2 - t1)"
     ],
     "language": "python",
     "metadata": {},
     "outputs": [
      {
       "output_type": "stream",
       "stream": "stdout",
       "text": [
        "Elapsed: 2.69907903671\n"
       ]
      }
     ],
     "prompt_number": 10
    },
    {
     "cell_type": "code",
     "collapsed": false,
     "input": [
      "%matplotlib inline\n",
      "\n",
      "#Matplotlib magic\n",
      "plt.figure(num=None, figsize=(18, 6), dpi=80, facecolor='w', edgecolor='k')\n",
      "plt.ylim(ymin=32.8, ymax=33.45)\n",
      "plt.xlabel('Number of trades')\n",
      "plt.ylabel('Price ($)')\n",
      "plt.plot(xrange(len(points)), zip(*points)[0] , 'b-')\n",
      "plt.plot(xrange(len(points)), zip(*points)[1] , 'r-')\n",
      "plt.plot(xrange(len(points)), zip(*points)[2] , 'g-')\n",
      "\n",
      "plt.show()"
     ],
     "language": "python",
     "metadata": {},
     "outputs": [
      {
       "metadata": {},
       "output_type": "display_data",
       "png": "[encoded data removed]",
       "text": [
        "<matplotlib.figure.Figure at 0x11fbd310>"
       ]
      }
     ],
     "prompt_number": 11
    },
    {
     "cell_type": "markdown",
     "metadata": {},
     "source": [
      "Let's try to plot the [Open-High-Low-Close chart](http://en.wikipedia.org/wiki/Open-high-low-close_chart) of this data. Please note that I am not a finance expert, the point of this tutorial is to show how to work with big data and btables, not to show finances."
     ]
    },
    {
     "cell_type": "markdown",
     "metadata": {},
     "source": [
      "For that first we need to know how many trades there are. We will use here the wonderfull eval() function of the arrays, that allows us to do the same operation in every row. Due to the use of a numpy function, we have to use the python virtual machine instead of the numexpr one."
     ]
    },
    {
     "cell_type": "code",
     "collapsed": false,
     "input": [
      "t1 = time()\n",
      "trades = bt.eval(\"np.sum(Type == 'Trade')\", vm=\"python\")\n",
      "t2 = time()\n",
      "\n",
      "print 'Elapsed: ' + str(t2 - t1) + ' Trades: ' + str(trades)"
     ],
     "language": "python",
     "metadata": {},
     "outputs": [
      {
       "output_type": "stream",
       "stream": "stdout",
       "text": [
        "Elapsed: 0.200906991959 Trades: 193945\n"
       ]
      }
     ],
     "prompt_number": 12
    },
    {
     "cell_type": "markdown",
     "metadata": {},
     "source": [
      "We will take 2455 trades as our window size, that makes 79 trades per window."
     ]
    },
    {
     "cell_type": "code",
     "collapsed": false,
     "input": [
      "windows = []\n",
      "window_size = 79\n",
      "sample_size = 2455\n",
      "\n",
      "t1 = time()\n",
      "iter = bt.where('(Type == \\'Trade\\')', 'Price')\n",
      "\n",
      "for i in xrange(sample_size):\n",
      "    \n",
      "    local_max = - np.inf\n",
      "    local_min = np.inf\n",
      "    average_price = 0\n",
      "    \n",
      "    for j in xrange(window_size):\n",
      "        \n",
      "        current = iter.next()\n",
      "        price = current[0]\n",
      "        average_price += price\n",
      "        \n",
      "        if(price > local_max):\n",
      "            local_max = price\n",
      "            \n",
      "        if(price < local_min):\n",
      "            local_min = price\n",
      "            \n",
      "        if(j == 0):\n",
      "            local_open = price\n",
      "            \n",
      "        if(j == (window_size - 1)):\n",
      "            local_close = price\n",
      "        \n",
      "    windows.append([average_price/float(window_size), local_open, local_max, local_min, local_close])     \n",
      "\n",
      "\n",
      "t2 = time()\n",
      "\n",
      "print t2 - t1"
     ],
     "language": "python",
     "metadata": {},
     "outputs": [
      {
       "output_type": "stream",
       "stream": "stdout",
       "text": [
        "0.57359290123\n"
       ]
      }
     ],
     "prompt_number": 14
    },
    {
     "cell_type": "markdown",
     "metadata": {},
     "source": [
      "There are way too many movements in a day, let's just plot a subset so we can see them better. In this case we will only print 80 windows."
     ]
    },
    {
     "cell_type": "code",
     "collapsed": false,
     "input": [
      "#Matplotlib magic\n",
      "plt.figure(num=None, figsize=(18, 6), dpi=80, facecolor='w', edgecolor='k')\n",
      "plt.ylim(ymin=32.85, ymax=33.07)\n",
      "plt.xlim(xmin=0, xmax=6300)\n",
      "plt.xlabel('Number of trades')\n",
      "plt.ylabel('Price ($)')\n",
      "limit = 80\n",
      "\n",
      "#Vertical segments\n",
      "plt.vlines(xrange(0, window_size*limit, window_size), zip(*windows)[3][:limit], zip(*windows)[2][:limit], colors='k', linestyles='solid')\n",
      "\n",
      "#Horizontal segments\n",
      "#Open\n",
      "plt.hlines(zip(*windows)[1][:limit], xrange(-30, (window_size*limit -30), window_size), xrange(0, window_size*limit, window_size), colors='r', linestyles='solid')\n",
      "\n",
      "#Close\n",
      "plt.hlines(zip(*windows)[4][:limit], xrange(30, (window_size*limit +30), window_size), xrange(0, window_size*limit, window_size), colors='r', linestyles='solid')\n",
      "\n",
      "plt.show()"
     ],
     "language": "python",
     "metadata": {},
     "outputs": [
      {
       "metadata": {},
       "output_type": "display_data",
       "png": "[encoded data removed]",
       "text": [
        "<matplotlib.figure.Figure at 0xb458950>"
       ]
      }
     ],
     "prompt_number": 15
    },
    {
     "cell_type": "markdown",
     "metadata": {},
     "source": [
      "So we have done some good operations with this data, and they were really fast."
     ]
    },
    {
     "cell_type": "heading",
     "level": 2,
     "metadata": {},
     "source": [
      "Conclusions"
     ]
    },
    {
     "cell_type": "markdown",
     "metadata": {},
     "source": [
      "Btables are the perfect choice when speed and compression are mandatory. You can fetch arbitrary rows and do coulmn operations really quickly."
     ]
    }
   ],
   "metadata": {}
  }
 ]
}